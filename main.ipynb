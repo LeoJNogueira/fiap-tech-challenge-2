{
 "cells": [
  {
   "metadata": {
    "ExecuteTime": {
     "end_time": "2025-07-26T22:43:54.611318Z",
     "start_time": "2025-07-26T22:43:54.606239Z"
    }
   },
   "cell_type": "code",
   "source": [
    "import pandas as pd\n",
    "import project_fitness_function as fit"
   ],
   "id": "c0ec23a67708154",
   "outputs": [],
   "execution_count": 211
  },
  {
   "cell_type": "code",
   "id": "initial_id",
   "metadata": {
    "collapsed": true,
    "ExecuteTime": {
     "end_time": "2025-07-26T22:43:56.403231Z",
     "start_time": "2025-07-26T22:43:56.401007Z"
    }
   },
   "source": [
    "file = 'train_data.csv'\n",
    "terreno_hectares = 2\n",
    "limite_agua = 5000\n",
    "umidade_solo = 0\n",
    "janela_dias = 90\n",
    "orcamento_maximo = 0"
   ],
   "outputs": [],
   "execution_count": 212
  },
  {
   "metadata": {
    "ExecuteTime": {
     "end_time": "2025-07-26T22:43:57.996575Z",
     "start_time": "2025-07-26T22:43:57.984057Z"
    }
   },
   "cell_type": "code",
   "source": "df = pd.read_csv(file)",
   "id": "3d94973e397b5b52",
   "outputs": [],
   "execution_count": 213
  },
  {
   "metadata": {
    "ExecuteTime": {
     "end_time": "2025-07-26T22:43:59.284132Z",
     "start_time": "2025-07-26T22:43:59.277478Z"
    }
   },
   "cell_type": "code",
   "source": "m2_area = terreno_hectares * 10_000",
   "id": "67e1462a9fa45c5f",
   "outputs": [],
   "execution_count": 214
  },
  {
   "metadata": {
    "ExecuteTime": {
     "end_time": "2025-07-26T22:44:09.652440Z",
     "start_time": "2025-07-26T22:44:09.644865Z"
    }
   },
   "cell_type": "code",
   "source": "df.head()",
   "id": "967c849c89055fe9",
   "outputs": [
    {
     "data": {
      "text/plain": [
       "  CULTURA  CUSTO PRODUÇÃO  PRODUTIVIDADE  CICLO DE VIDA MIN EM DIAS  \\\n",
       "0   milho             2.0            3.0                         90   \n",
       "1    soja             2.5            3.0                         90   \n",
       "2    café             3.0            2.0                       1096   \n",
       "3  feijão             1.5            2.0                         60   \n",
       "4   sorgo             1.0            2.5                         90   \n",
       "\n",
       "   CICLO DE VIDA MAX EM DIAS  REQUISITO DE ÁGUA  RETORNO FINANCEIRO SINERGIA  \\\n",
       "0                        120                2.0                 2.5   feijão   \n",
       "1                        150                2.0                 3.0    sorgo   \n",
       "2                       1461                3.0                 3.0   feijão   \n",
       "3                         90                2.0                 2.0    milho   \n",
       "4                        130                1.0                 2.0     soja   \n",
       "\n",
       "        COMPANHEIRA           NEUTRA              ANTAGÔNICA  ESPAÇO MÍNIMO m²  \n",
       "0  mandioca,abóbora      arroz,trigo  algodão,cana-de-açúcar               0.7  \n",
       "1       milho,trigo     feijão,arroz     café,cana-de-açúcar               0.4  \n",
       "2      milho,banana   mandioca,arroz     soja,cana-de-açúcar               2.5  \n",
       "3   mandioca,batata       soja,trigo  algodão,cana-de-açúcar               0.4  \n",
       "4       milho,trigo  feijão,mandioca              arroz,café               0.5  "
      ],
      "text/html": [
       "<div>\n",
       "<style scoped>\n",
       "    .dataframe tbody tr th:only-of-type {\n",
       "        vertical-align: middle;\n",
       "    }\n",
       "\n",
       "    .dataframe tbody tr th {\n",
       "        vertical-align: top;\n",
       "    }\n",
       "\n",
       "    .dataframe thead th {\n",
       "        text-align: right;\n",
       "    }\n",
       "</style>\n",
       "<table border=\"1\" class=\"dataframe\">\n",
       "  <thead>\n",
       "    <tr style=\"text-align: right;\">\n",
       "      <th></th>\n",
       "      <th>CULTURA</th>\n",
       "      <th>CUSTO PRODUÇÃO</th>\n",
       "      <th>PRODUTIVIDADE</th>\n",
       "      <th>CICLO DE VIDA MIN EM DIAS</th>\n",
       "      <th>CICLO DE VIDA MAX EM DIAS</th>\n",
       "      <th>REQUISITO DE ÁGUA</th>\n",
       "      <th>RETORNO FINANCEIRO</th>\n",
       "      <th>SINERGIA</th>\n",
       "      <th>COMPANHEIRA</th>\n",
       "      <th>NEUTRA</th>\n",
       "      <th>ANTAGÔNICA</th>\n",
       "      <th>ESPAÇO MÍNIMO m²</th>\n",
       "    </tr>\n",
       "  </thead>\n",
       "  <tbody>\n",
       "    <tr>\n",
       "      <th>0</th>\n",
       "      <td>milho</td>\n",
       "      <td>2.0</td>\n",
       "      <td>3.0</td>\n",
       "      <td>90</td>\n",
       "      <td>120</td>\n",
       "      <td>2.0</td>\n",
       "      <td>2.5</td>\n",
       "      <td>feijão</td>\n",
       "      <td>mandioca,abóbora</td>\n",
       "      <td>arroz,trigo</td>\n",
       "      <td>algodão,cana-de-açúcar</td>\n",
       "      <td>0.7</td>\n",
       "    </tr>\n",
       "    <tr>\n",
       "      <th>1</th>\n",
       "      <td>soja</td>\n",
       "      <td>2.5</td>\n",
       "      <td>3.0</td>\n",
       "      <td>90</td>\n",
       "      <td>150</td>\n",
       "      <td>2.0</td>\n",
       "      <td>3.0</td>\n",
       "      <td>sorgo</td>\n",
       "      <td>milho,trigo</td>\n",
       "      <td>feijão,arroz</td>\n",
       "      <td>café,cana-de-açúcar</td>\n",
       "      <td>0.4</td>\n",
       "    </tr>\n",
       "    <tr>\n",
       "      <th>2</th>\n",
       "      <td>café</td>\n",
       "      <td>3.0</td>\n",
       "      <td>2.0</td>\n",
       "      <td>1096</td>\n",
       "      <td>1461</td>\n",
       "      <td>3.0</td>\n",
       "      <td>3.0</td>\n",
       "      <td>feijão</td>\n",
       "      <td>milho,banana</td>\n",
       "      <td>mandioca,arroz</td>\n",
       "      <td>soja,cana-de-açúcar</td>\n",
       "      <td>2.5</td>\n",
       "    </tr>\n",
       "    <tr>\n",
       "      <th>3</th>\n",
       "      <td>feijão</td>\n",
       "      <td>1.5</td>\n",
       "      <td>2.0</td>\n",
       "      <td>60</td>\n",
       "      <td>90</td>\n",
       "      <td>2.0</td>\n",
       "      <td>2.0</td>\n",
       "      <td>milho</td>\n",
       "      <td>mandioca,batata</td>\n",
       "      <td>soja,trigo</td>\n",
       "      <td>algodão,cana-de-açúcar</td>\n",
       "      <td>0.4</td>\n",
       "    </tr>\n",
       "    <tr>\n",
       "      <th>4</th>\n",
       "      <td>sorgo</td>\n",
       "      <td>1.0</td>\n",
       "      <td>2.5</td>\n",
       "      <td>90</td>\n",
       "      <td>130</td>\n",
       "      <td>1.0</td>\n",
       "      <td>2.0</td>\n",
       "      <td>soja</td>\n",
       "      <td>milho,trigo</td>\n",
       "      <td>feijão,mandioca</td>\n",
       "      <td>arroz,café</td>\n",
       "      <td>0.5</td>\n",
       "    </tr>\n",
       "  </tbody>\n",
       "</table>\n",
       "</div>"
      ]
     },
     "execution_count": 219,
     "metadata": {},
     "output_type": "execute_result"
    }
   ],
   "execution_count": 219
  },
  {
   "metadata": {},
   "cell_type": "markdown",
   "source": [
    "Usar codificação hibrida\n",
    "\n",
    "objetivo maior produtividade com menor custo\n",
    "\n",
    "fit = produtividade + ret. fin - cust. prod"
   ],
   "id": "98ef3933f417c9f3"
  },
  {
   "metadata": {
    "ExecuteTime": {
     "end_time": "2025-07-26T22:44:03.496914Z",
     "start_time": "2025-07-26T22:44:03.490095Z"
    }
   },
   "cell_type": "code",
   "source": "df['CULTURA'][0]",
   "id": "fe06a5395814cab3",
   "outputs": [
    {
     "data": {
      "text/plain": [
       "'milho'"
      ]
     },
     "execution_count": 216,
     "metadata": {},
     "output_type": "execute_result"
    }
   ],
   "execution_count": 216
  },
  {
   "metadata": {
    "ExecuteTime": {
     "end_time": "2025-07-26T22:44:08.294738Z",
     "start_time": "2025-07-26T22:44:08.290629Z"
    }
   },
   "cell_type": "code",
   "source": "fitness = df['CULTURA'].str.split(' ', expand=True)",
   "id": "5a07624669a65ebb",
   "outputs": [],
   "execution_count": 218
  },
  {
   "metadata": {
    "ExecuteTime": {
     "end_time": "2025-07-26T22:44:17.840103Z",
     "start_time": "2025-07-26T22:44:17.834984Z"
    }
   },
   "cell_type": "code",
   "source": [
    "sample = df.sample(3)\n",
    "fit.project_fitness_function(sample, orcamento_maximo, m2_area, limite_agua, janela_dias)"
   ],
   "id": "d3d9b37679f3779a",
   "outputs": [
    {
     "name": "stdout",
     "output_type": "stream",
     "text": [
      "-0.5\n",
      "12.780000000000003\n",
      "19.358776575000004\n"
     ]
    }
   ],
   "execution_count": 222
  }
 ],
 "metadata": {
  "kernelspec": {
   "display_name": "Python 3",
   "language": "python",
   "name": "python3"
  },
  "language_info": {
   "codemirror_mode": {
    "name": "ipython",
    "version": 2
   },
   "file_extension": ".py",
   "mimetype": "text/x-python",
   "name": "python",
   "nbconvert_exporter": "python",
   "pygments_lexer": "ipython2",
   "version": "2.7.6"
  }
 },
 "nbformat": 4,
 "nbformat_minor": 5
}
