{
 "cells": [
  {
   "metadata": {
    "ExecuteTime": {
     "end_time": "2025-07-24T18:35:54.775398Z",
     "start_time": "2025-07-24T18:35:54.476063Z"
    }
   },
   "cell_type": "code",
   "source": "import pandas as pd",
   "id": "c0ec23a67708154",
   "outputs": [],
   "execution_count": 1
  },
  {
   "cell_type": "code",
   "id": "initial_id",
   "metadata": {
    "collapsed": true,
    "ExecuteTime": {
     "end_time": "2025-07-26T22:00:26.738690Z",
     "start_time": "2025-07-26T22:00:26.735200Z"
    }
   },
   "source": [
    "file = 'train_data.csv'\n",
    "area_total = 2\n",
    "limite_agua = 5000\n",
    "umidade_solo = 0\n",
    "janela_dias = 90\n",
    "orcamento_maximo = 0"
   ],
   "outputs": [],
   "execution_count": 117
  },
  {
   "metadata": {
    "ExecuteTime": {
     "end_time": "2025-07-24T20:45:02.376778Z",
     "start_time": "2025-07-24T20:45:02.369695Z"
    }
   },
   "cell_type": "code",
   "source": "df = pd.read_csv(file)",
   "id": "3d94973e397b5b52",
   "outputs": [],
   "execution_count": 66
  },
  {
   "metadata": {
    "ExecuteTime": {
     "end_time": "2025-07-24T18:49:05.707757Z",
     "start_time": "2025-07-24T18:49:05.704471Z"
    }
   },
   "cell_type": "code",
   "source": "m2_area = area_total * 10_000",
   "id": "67e1462a9fa45c5f",
   "outputs": [],
   "execution_count": 11
  },
  {
   "metadata": {
    "ExecuteTime": {
     "end_time": "2025-07-24T20:45:18.870678Z",
     "start_time": "2025-07-24T20:45:18.852069Z"
    }
   },
   "cell_type": "code",
   "source": "df.head()",
   "id": "967c849c89055fe9",
   "outputs": [
    {
     "data": {
      "text/plain": [
       "  CULTURA  CUSTO PRODUÇÃO  PRODUTIVIDADE  CICLO DE VIDA MIN EM DIAS  \\\n",
       "0   milho             2.0            3.0                         90   \n",
       "1    soja             2.5            3.0                         90   \n",
       "2    café             3.0            2.0                       1096   \n",
       "3  feijão             1.5            2.0                         60   \n",
       "4   sorgo             1.0            2.5                         90   \n",
       "\n",
       "   CICLO DE VIDA MAX EM DIAS  REQUISITO DE ÁGUA  RETORNO FINANCEIRO SINERGIA  \\\n",
       "0                        120                2.0                 2.5   feijão   \n",
       "1                        150                2.0                 3.0    sorgo   \n",
       "2                       1461                3.0                 3.0   feijão   \n",
       "3                         90                2.0                 2.0    milho   \n",
       "4                        130                1.0                 2.0     soja   \n",
       "\n",
       "        COMPANHEIRA           NEUTRA              ANTAGÔNICA  ESPAÇO MÍNIMO m²  \n",
       "0  mandioca,abóbora      arroz,trigo  algodão,cana-de-açúcar               0.7  \n",
       "1       milho,trigo     feijão,arroz     café,cana-de-açúcar               0.4  \n",
       "2      milho,banana   mandioca,arroz     soja,cana-de-açúcar               2.5  \n",
       "3   mandioca,batata       soja,trigo  algodão,cana-de-açúcar               0.4  \n",
       "4       milho,trigo  feijão,mandioca              arroz,café               0.5  "
      ],
      "text/html": [
       "<div>\n",
       "<style scoped>\n",
       "    .dataframe tbody tr th:only-of-type {\n",
       "        vertical-align: middle;\n",
       "    }\n",
       "\n",
       "    .dataframe tbody tr th {\n",
       "        vertical-align: top;\n",
       "    }\n",
       "\n",
       "    .dataframe thead th {\n",
       "        text-align: right;\n",
       "    }\n",
       "</style>\n",
       "<table border=\"1\" class=\"dataframe\">\n",
       "  <thead>\n",
       "    <tr style=\"text-align: right;\">\n",
       "      <th></th>\n",
       "      <th>CULTURA</th>\n",
       "      <th>CUSTO PRODUÇÃO</th>\n",
       "      <th>PRODUTIVIDADE</th>\n",
       "      <th>CICLO DE VIDA MIN EM DIAS</th>\n",
       "      <th>CICLO DE VIDA MAX EM DIAS</th>\n",
       "      <th>REQUISITO DE ÁGUA</th>\n",
       "      <th>RETORNO FINANCEIRO</th>\n",
       "      <th>SINERGIA</th>\n",
       "      <th>COMPANHEIRA</th>\n",
       "      <th>NEUTRA</th>\n",
       "      <th>ANTAGÔNICA</th>\n",
       "      <th>ESPAÇO MÍNIMO m²</th>\n",
       "    </tr>\n",
       "  </thead>\n",
       "  <tbody>\n",
       "    <tr>\n",
       "      <th>0</th>\n",
       "      <td>milho</td>\n",
       "      <td>2.0</td>\n",
       "      <td>3.0</td>\n",
       "      <td>90</td>\n",
       "      <td>120</td>\n",
       "      <td>2.0</td>\n",
       "      <td>2.5</td>\n",
       "      <td>feijão</td>\n",
       "      <td>mandioca,abóbora</td>\n",
       "      <td>arroz,trigo</td>\n",
       "      <td>algodão,cana-de-açúcar</td>\n",
       "      <td>0.7</td>\n",
       "    </tr>\n",
       "    <tr>\n",
       "      <th>1</th>\n",
       "      <td>soja</td>\n",
       "      <td>2.5</td>\n",
       "      <td>3.0</td>\n",
       "      <td>90</td>\n",
       "      <td>150</td>\n",
       "      <td>2.0</td>\n",
       "      <td>3.0</td>\n",
       "      <td>sorgo</td>\n",
       "      <td>milho,trigo</td>\n",
       "      <td>feijão,arroz</td>\n",
       "      <td>café,cana-de-açúcar</td>\n",
       "      <td>0.4</td>\n",
       "    </tr>\n",
       "    <tr>\n",
       "      <th>2</th>\n",
       "      <td>café</td>\n",
       "      <td>3.0</td>\n",
       "      <td>2.0</td>\n",
       "      <td>1096</td>\n",
       "      <td>1461</td>\n",
       "      <td>3.0</td>\n",
       "      <td>3.0</td>\n",
       "      <td>feijão</td>\n",
       "      <td>milho,banana</td>\n",
       "      <td>mandioca,arroz</td>\n",
       "      <td>soja,cana-de-açúcar</td>\n",
       "      <td>2.5</td>\n",
       "    </tr>\n",
       "    <tr>\n",
       "      <th>3</th>\n",
       "      <td>feijão</td>\n",
       "      <td>1.5</td>\n",
       "      <td>2.0</td>\n",
       "      <td>60</td>\n",
       "      <td>90</td>\n",
       "      <td>2.0</td>\n",
       "      <td>2.0</td>\n",
       "      <td>milho</td>\n",
       "      <td>mandioca,batata</td>\n",
       "      <td>soja,trigo</td>\n",
       "      <td>algodão,cana-de-açúcar</td>\n",
       "      <td>0.4</td>\n",
       "    </tr>\n",
       "    <tr>\n",
       "      <th>4</th>\n",
       "      <td>sorgo</td>\n",
       "      <td>1.0</td>\n",
       "      <td>2.5</td>\n",
       "      <td>90</td>\n",
       "      <td>130</td>\n",
       "      <td>1.0</td>\n",
       "      <td>2.0</td>\n",
       "      <td>soja</td>\n",
       "      <td>milho,trigo</td>\n",
       "      <td>feijão,mandioca</td>\n",
       "      <td>arroz,café</td>\n",
       "      <td>0.5</td>\n",
       "    </tr>\n",
       "  </tbody>\n",
       "</table>\n",
       "</div>"
      ]
     },
     "execution_count": 67,
     "metadata": {},
     "output_type": "execute_result"
    }
   ],
   "execution_count": 67
  },
  {
   "metadata": {},
   "cell_type": "markdown",
   "source": [
    "Usar codificação hibrida\n",
    "\n",
    "objetivo maior produtividade com menor custo\n",
    "\n",
    "fit = produtividade + ret. fin - cust. prod"
   ],
   "id": "98ef3933f417c9f3"
  },
  {
   "metadata": {
    "ExecuteTime": {
     "end_time": "2025-07-24T18:58:29.427701Z",
     "start_time": "2025-07-24T18:58:29.423248Z"
    }
   },
   "cell_type": "code",
   "source": "df['CULTURA'][0]",
   "id": "fe06a5395814cab3",
   "outputs": [
    {
     "data": {
      "text/plain": [
       "'milho'"
      ]
     },
     "execution_count": 16,
     "metadata": {},
     "output_type": "execute_result"
    }
   ],
   "execution_count": 16
  },
  {
   "metadata": {
    "ExecuteTime": {
     "end_time": "2025-07-24T19:09:42.309439Z",
     "start_time": "2025-07-24T19:09:42.299752Z"
    }
   },
   "cell_type": "code",
   "source": "fitness = df['CULTURA'].str.split(' ', expand=True)",
   "id": "5a07624669a65ebb",
   "outputs": [],
   "execution_count": 19
  },
  {
   "metadata": {
    "ExecuteTime": {
     "end_time": "2025-07-26T22:01:17.735431Z",
     "start_time": "2025-07-26T22:01:17.725016Z"
    }
   },
   "cell_type": "code",
   "source": [
    "sample = df.sample(3)\n",
    "\n",
    "# pontuação normalizada do conjunto\n",
    "W_prod = 0.6\n",
    "W_comp = 0.4\n",
    "\n",
    "# para cada cultura do conjunto\n",
    "# pontuação_produtividade = (produtividade/espaço minimo)\n",
    "normalized_production_score = 0\n",
    "normalized_competition_score = 0\n",
    "\n",
    "for s in sample.iterrows():\n",
    "    production_score = (s[1]['PRODUTIVIDADE'] / s[1]['ESPAÇO MÍNIMO m²'])\n",
    "    normalized_production_score += production_score\n",
    "\n",
    "\n",
    "# para cada cultura do conjunto\n",
    "# pontuação_competitividade = 0\n",
    "# +1.0 Sinérgica\n",
    "# +0.5 Companheira\n",
    "# 0.0 Neutra\n",
    "# -1.0 Antagônica\n",
    "\n",
    "plant_map = dict()\n",
    "\n",
    "for s in sample.iterrows():\n",
    "    plant_map[s[1]['CULTURA']] = dict(sinergia=s[1]['SINERGIA'].split(','),companheira=s[1]['COMPANHEIRA'].split(','),neutra=s[1]['NEUTRA'].split(','),antagonica=s[1]['ANTAGÔNICA'].split(','))\n",
    "\n",
    "# print(plant_map)\n",
    "\n",
    "#score de compatibilidade\n",
    "for s in sample.iterrows():\n",
    "    for key, value in plant_map.items():\n",
    "        if s[1]['CULTURA'] == key:\n",
    "            continue\n",
    "        if s[1]['CULTURA'] in value['sinergia']:\n",
    "            normalized_competition_score += 1.0\n",
    "        if s[1]['CULTURA'] in value['companheira']:\n",
    "            normalized_competition_score += 0.5\n",
    "        if s[1]['CULTURA'] in value['neutra']:\n",
    "            normalized_competition_score += 0.0\n",
    "        if s[1]['CULTURA'] in value['antagonica']:\n",
    "            normalized_competition_score -= 1.0\n",
    "\n",
    "\n",
    "# normalizar para ficar entre 0 e 1\n",
    "print(normalized_competition_score)\n",
    "\n",
    "\n",
    "# score = (W_prod * production_score)+(W_comp * competition_score)\n",
    "score = (W_prod * normalized_production_score)+(W_comp * normalized_competition_score)\n",
    "\n",
    "print(score)\n",
    "\n",
    "# penalidades\n",
    "\n",
    "custo_total = 0\n",
    "agua_total = 0\n",
    "ciclo_de_vida = []\n",
    "\n",
    "for s in sample.iterrows():\n",
    "    custo_total += s[1]['CUSTO PRODUÇÃO']\n",
    "    agua_total += s[1]['REQUISITO DE ÁGUA']\n",
    "    ciclo_de_vida.append(s[1]['CICLO DE VIDA MAX EM DIAS'])\n",
    "\n",
    "#Se Custo Total > Orçamento_Máximo, então P_econômica = 0.01, senão P_econômica=1\n",
    "\n",
    "P_economica = 0.01 if custo_total >= orcamento_maximo else 1\n",
    "\n",
    "# Água Total > Sua_Disponibilidade_de_Água, então P_ecológica = 0.01, senão P_ecológica = 1\n",
    "\n",
    "P_ecologica = 0.01 if agua_total >= limite_agua else 1\n",
    "\n",
    "# ciclo de vida: verificar se o ciclo de vida mais longo cabe na janela de plantio\n",
    "\n",
    "if max(ciclo_de_vida) > janela_dias:\n",
    "    P_ecologica += 0.5\n",
    "\n",
    "fitness = score * P_economica * P_ecologica\n",
    "\n",
    "print(fitness)"
   ],
   "id": "d3d9b37679f3779a",
   "outputs": [
    {
     "name": "stdout",
     "output_type": "stream",
     "text": [
      "1.0\n",
      "16.38\n",
      "0.2457\n"
     ]
    }
   ],
   "execution_count": 137
  }
 ],
 "metadata": {
  "kernelspec": {
   "display_name": "Python 3",
   "language": "python",
   "name": "python3"
  },
  "language_info": {
   "codemirror_mode": {
    "name": "ipython",
    "version": 2
   },
   "file_extension": ".py",
   "mimetype": "text/x-python",
   "name": "python",
   "nbconvert_exporter": "python",
   "pygments_lexer": "ipython2",
   "version": "2.7.6"
  }
 },
 "nbformat": 4,
 "nbformat_minor": 5
}
