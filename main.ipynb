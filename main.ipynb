{
 "cells": [
  {
   "metadata": {
    "ExecuteTime": {
     "end_time": "2025-07-27T15:31:55.015834Z",
     "start_time": "2025-07-27T15:31:54.500556Z"
    }
   },
   "cell_type": "code",
   "source": [
    "import pandas as pd\n",
    "from matplotlib.projections import projection_registry\n",
    "\n",
    "import project_fitness_function as fit"
   ],
   "id": "c0ec23a67708154",
   "outputs": [],
   "execution_count": 1
  },
  {
   "cell_type": "code",
   "id": "initial_id",
   "metadata": {
    "collapsed": true,
    "ExecuteTime": {
     "end_time": "2025-07-27T15:31:55.147103Z",
     "start_time": "2025-07-27T15:31:55.145034Z"
    }
   },
   "source": [
    "file = 'train_data.csv'\n",
    "terreno_hectares = 2\n",
    "limite_agua = 8.5\n",
    "janela_dias = 90\n",
    "orcamento_maximo = 9\n",
    "interacoes = 1000"
   ],
   "outputs": [],
   "execution_count": 2
  },
  {
   "metadata": {
    "ExecuteTime": {
     "end_time": "2025-07-27T15:31:55.157172Z",
     "start_time": "2025-07-27T15:31:55.153217Z"
    }
   },
   "cell_type": "code",
   "source": "df = pd.read_csv(file)",
   "id": "3d94973e397b5b52",
   "outputs": [],
   "execution_count": 3
  },
  {
   "metadata": {
    "ExecuteTime": {
     "end_time": "2025-07-27T15:31:55.167729Z",
     "start_time": "2025-07-27T15:31:55.165889Z"
    }
   },
   "cell_type": "code",
   "source": "m2_area = terreno_hectares * 10_000",
   "id": "67e1462a9fa45c5f",
   "outputs": [],
   "execution_count": 4
  },
  {
   "metadata": {},
   "cell_type": "markdown",
   "source": [
    "Usar codificação hibrida\n",
    "\n",
    "objetivo maior produtividade com menor custo\n",
    "\n",
    "fit = produtividade + ret. fin - cust. prod"
   ],
   "id": "98ef3933f417c9f3"
  },
  {
   "metadata": {
    "ExecuteTime": {
     "end_time": "2025-07-27T15:31:55.178633Z",
     "start_time": "2025-07-27T15:31:55.175454Z"
    }
   },
   "cell_type": "code",
   "source": "df['CULTURA'][0]",
   "id": "fe06a5395814cab3",
   "outputs": [
    {
     "data": {
      "text/plain": [
       "'milho'"
      ]
     },
     "execution_count": 5,
     "metadata": {},
     "output_type": "execute_result"
    }
   ],
   "execution_count": 5
  },
  {
   "metadata": {
    "ExecuteTime": {
     "end_time": "2025-07-27T15:31:55.184146Z",
     "start_time": "2025-07-27T15:31:55.182130Z"
    }
   },
   "cell_type": "code",
   "source": "fitness = df['CULTURA'].str.split(' ', expand=True)",
   "id": "5a07624669a65ebb",
   "outputs": [],
   "execution_count": 6
  },
  {
   "metadata": {
    "ExecuteTime": {
     "end_time": "2025-07-27T15:34:35.895793Z",
     "start_time": "2025-07-27T15:31:55.196651Z"
    }
   },
   "cell_type": "code",
   "source": [
    "best_result = []\n",
    "def xpto(samples):\n",
    "    results = []\n",
    "    for i, sample in enumerate(samples):\n",
    "        fit_result = fit.project_fitness_function(sample, orcamento_maximo, m2_area, limite_agua, janela_dias)\n",
    "        results.append({'sample': sample, 'fitness': fit_result})\n",
    "\n",
    "    results.sort(key=lambda x: x['fitness'],reverse=True)\n",
    "\n",
    "    if len(best_result) == 0:\n",
    "        best_result.append(results[0])\n",
    "\n",
    "    if results[0]['fitness'] > best_result[0]['fitness']:\n",
    "        best_result[0] = results[0]\n",
    "\n",
    "\n",
    "\n",
    "\n",
    "# população inicial\n",
    "initial_population = []\n",
    "\n",
    "for i in range(100):\n",
    "    initial_population.append(df.sample(3))\n",
    "# executa para população inicial\n",
    "xpto(initial_population)\n",
    "\n",
    "#crossover de genes\n",
    "for i in range(interacoes):\n",
    "    new_population = fit.crossover(initial_population)\n",
    "    xpto(new_population)\n",
    "\n",
    "print(best_result)"
   ],
   "id": "d3d9b37679f3779a",
   "outputs": [
    {
     "name": "stdout",
     "output_type": "stream",
     "text": [
      "[{'sample':   CULTURA  CUSTO PRODUÇÃO  PRODUTIVIDADE  CICLO DE VIDA MIN EM DIAS  \\\n",
      "9   trigo             2.0            2.0                        100   \n",
      "4    soja             2.5            3.0                         90   \n",
      "8   arroz             2.0            2.5                        110   \n",
      "\n",
      "   CICLO DE VIDA MAX EM DIAS  REQUISITO DE ÁGUA  RETORNO FINANCEIRO SINERGIA  \\\n",
      "9                        130                2.0                 2.0     soja   \n",
      "4                        150                2.0                 3.0    sorgo   \n",
      "8                        150                3.0                 2.0  nenhuma   \n",
      "\n",
      "   COMPANHEIRA        NEUTRA               ANTAGÔNICA  ESPAÇO MÍNIMO m²  \n",
      "9  arroz,aveia  milho,feijão  mandioca,cana-de-açúcar              0.15  \n",
      "4  milho,trigo  feijão,arroz      café,cana-de-açúcar              0.40  \n",
      "8  trigo,aveia    milho,soja     sorgo,cana-de-açúcar              0.20  , 'fitness': 61.198852499999994}]\n"
     ]
    }
   ],
   "execution_count": 7
  },
  {
   "metadata": {
    "ExecuteTime": {
     "end_time": "2025-07-27T15:34:35.917048Z",
     "start_time": "2025-07-27T15:34:35.915668Z"
    }
   },
   "cell_type": "code",
   "source": "",
   "id": "86f547eca25bf2dc",
   "outputs": [],
   "execution_count": null
  }
 ],
 "metadata": {
  "kernelspec": {
   "display_name": "Python 3",
   "language": "python",
   "name": "python3"
  },
  "language_info": {
   "codemirror_mode": {
    "name": "ipython",
    "version": 2
   },
   "file_extension": ".py",
   "mimetype": "text/x-python",
   "name": "python",
   "nbconvert_exporter": "python",
   "pygments_lexer": "ipython2",
   "version": "2.7.6"
  }
 },
 "nbformat": 4,
 "nbformat_minor": 5
}
