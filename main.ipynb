{
 "cells": [
  {
   "metadata": {},
   "cell_type": "code",
   "source": [
    "import pandas as pd\n",
    "from matplotlib import pyplot as plt\n",
    "import numpy as np\n",
    "from matplotlib.projections import projection_registry\n",
    "\n",
    "import project_fitness_function as fit"
   ],
   "id": "c0ec23a67708154",
   "outputs": [],
   "execution_count": null
  },
  {
   "cell_type": "code",
   "id": "initial_id",
   "metadata": {
    "collapsed": true
   },
   "source": [
    "file = 'train_data.csv'\n",
    "terreno_hectares = 2\n",
    "limite_agua = 8.5\n",
    "janela_dias = 90\n",
    "orcamento_maximo = 7.5\n",
    "\n",
    "interacoes = 500"
   ],
   "outputs": [],
   "execution_count": null
  },
  {
   "metadata": {},
   "cell_type": "code",
   "source": "df = pd.read_csv(file)",
   "id": "3d94973e397b5b52",
   "outputs": [],
   "execution_count": null
  },
  {
   "metadata": {},
   "cell_type": "code",
   "source": "m2_area = terreno_hectares * 10_000",
   "id": "67e1462a9fa45c5f",
   "outputs": [],
   "execution_count": null
  },
  {
   "metadata": {},
   "cell_type": "code",
   "source": [
    "melhor_resultado = []\n",
    "fitness_history = []\n",
    "std_fitness_history = []\n",
    "best_fitness_so_far = []\n",
    "avg_fitness_history = []\n",
    "resultados = []\n",
    "\n",
    "# Seleciona os genes dos 3 melhores indivíduos por geração e cria um novo dataframe\n",
    "def selecao_genes():\n",
    "    melhores_amostras = [item['sample'] for item in resultados[:2]]\n",
    "    return pd.concat(melhores_amostras, ignore_index=True).drop_duplicates()\n",
    "\n",
    "# Calcula a adaptação das amostras por geracão\n",
    "def adaptacao(amostras):\n",
    "    for i, amostra in enumerate(amostras):\n",
    "        fit_result = fit.project_fitness_function(amostra, orcamento_maximo, m2_area, limite_agua, janela_dias)\n",
    "        resultados.append({'sample': amostra, 'fitness': fit_result})\n",
    "\n",
    "    resultados.sort(key=lambda x: x['fitness'],reverse=True)\n",
    "\n",
    "    fitness_values = [item['fitness'] for item in resultados]\n",
    "    std_fitness = np.std(fitness_values)\n",
    "\n",
    "    # Adiciona à lista de desvios padrão\n",
    "    std_fitness_history.append(std_fitness)\n",
    "    avg_fitness = sum(item['fitness'] for item in resultados) / len(resultados)\n",
    "\n",
    "    # Salva informações para gerar gráfico da média por geração\n",
    "    avg_fitness_history.append(avg_fitness)\n",
    "\n",
    "    # Salva dados para gerar grafico de convergência do algoritimo\n",
    "    fitness_history.append(resultados[0]['fitness'])\n",
    "\n",
    "    if len(melhor_resultado) == 0:\n",
    "        melhor_resultado.append(resultados[0])\n",
    "\n",
    "    if resultados[0]['fitness'] > melhor_resultado[0]['fitness']:\n",
    "        melhor_resultado[0] = resultados[0]\n",
    "\n",
    "    best_fitness_so_far.append(melhor_resultado[0]['fitness'])\n",
    "\n",
    "\n",
    "# array que contém população inicial\n",
    "populacao_inicial = []\n",
    "\n",
    "# gera 100 amostras e preenche a população inicial\n",
    "for i in range(100):\n",
    "    populacao_inicial.append(df.sample(5))\n",
    "\n",
    "# executa para população inicial\n",
    "adaptacao(populacao_inicial)\n",
    "\n",
    "melhores_genes = selecao_genes()\n",
    "\n",
    "#crossover de genes para a quantidade de interações configuradas\n",
    "for i in range(interacoes):\n",
    "    nova_populacao = fit.crossover(populacao_inicial, melhores_genes)\n",
    "    adaptacao(nova_populacao)\n",
    "    melhores_genes = selecao_genes()"
   ],
   "id": "d3d9b37679f3779a",
   "outputs": [],
   "execution_count": null
  },
  {
   "metadata": {},
   "cell_type": "code",
   "source": [
    "plt.figure(figsize=(10, 6))\n",
    "plt.plot(range(len(fitness_history)), fitness_history, linestyle='-', color='b')\n",
    "plt.title('Gráfico de Convergência do Algoritmo Genético')\n",
    "plt.xlabel('Iteração')\n",
    "plt.ylabel('Melhor Fitness')\n",
    "plt.grid(True)\n",
    "plt.show()"
   ],
   "id": "86f547eca25bf2dc",
   "outputs": [],
   "execution_count": null
  },
  {
   "metadata": {},
   "cell_type": "code",
   "source": [
    "plt.figure(figsize=(10, 6))\n",
    "plt.plot(range(len(std_fitness_history)), std_fitness_history, linestyle='-', color='m')\n",
    "plt.title('Gráfico de Desvio Padrão de Aptidão do Algoritmo Genético')\n",
    "plt.xlabel('Iteração')\n",
    "plt.ylabel('Desvio Padrão de Fitness')\n",
    "plt.grid(True)\n",
    "plt.show()"
   ],
   "id": "dd50cc2d5ff1dd8e",
   "outputs": [],
   "execution_count": null
  },
  {
   "metadata": {},
   "cell_type": "code",
   "source": [
    "plt.figure(figsize=(10, 6))\n",
    "plt.plot(range(len(best_fitness_so_far)), best_fitness_so_far, linestyle='-', color='r')\n",
    "plt.title('Gráfico de Melhor Aptidão Encontrada até o Momento')\n",
    "plt.xlabel('Iteração')\n",
    "plt.ylabel('Melhor Fitness')\n",
    "plt.grid(True)\n",
    "plt.show()"
   ],
   "id": "468ff648722a688c",
   "outputs": [],
   "execution_count": null
  },
  {
   "metadata": {},
   "cell_type": "code",
   "source": [
    "plt.figure(figsize=(10, 6))\n",
    "plt.plot(range(len(avg_fitness_history)), avg_fitness_history, linestyle='-', color='g')\n",
    "plt.title('Gráfico de Média de Aptidão do Algoritmo Genético')\n",
    "plt.xlabel('Iteração')\n",
    "plt.ylabel('Média de Fitness')\n",
    "plt.grid(True)\n",
    "plt.show()"
   ],
   "id": "e4fa65547b2b3de7",
   "outputs": [],
   "execution_count": null
  }
 ],
 "metadata": {
  "kernelspec": {
   "display_name": "Python 3",
   "language": "python",
   "name": "python3"
  },
  "language_info": {
   "codemirror_mode": {
    "name": "ipython",
    "version": 2
   },
   "file_extension": ".py",
   "mimetype": "text/x-python",
   "name": "python",
   "nbconvert_exporter": "python",
   "pygments_lexer": "ipython2",
   "version": "2.7.6"
  }
 },
 "nbformat": 4,
 "nbformat_minor": 5
}
